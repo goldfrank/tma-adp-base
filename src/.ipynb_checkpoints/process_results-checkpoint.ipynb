{
 "cells": [
  {
   "cell_type": "code",
   "execution_count": 2,
   "metadata": {},
   "outputs": [],
   "source": [
    "import numpy as np\n",
    "import pandas as pd\n",
    "import os\n",
    "import re\n",
    "\n",
    "import matplotlib.pyplot as plt\n",
    "import seaborn as sns"
   ]
  },
  {
   "cell_type": "code",
   "execution_count": 80,
   "metadata": {},
   "outputs": [
    {
     "name": "stdout",
     "output_type": "stream",
     "text": [
      "../WedFeb24044951PMEST2021/2021-02-24T16:50:01.474_header.txt\n",
      "../WedFeb24044951PMEST2021/2021-02-24T16:50:01.608_header.txt\n",
      "../WedFeb24044951PMEST2021/2021-02-24T16:50:02.547_header.txt\n",
      "../WedFeb24044951PMEST2021/2021-02-24T16:50:00.129_header.txt\n",
      "../WedFeb24044951PMEST2021/2021-02-24T16:50:01.186_header.txt\n",
      "../WedFeb24044951PMEST2021/2021-02-24T16:50:03.181_header.txt\n",
      "../WedFeb24044951PMEST2021/2021-02-24T16:50:00_header.txt\n",
      "../WedFeb24044951PMEST2021/2021-02-24T16:49:59.779_header.txt\n",
      "../WedFeb24044951PMEST2021/2021-02-24T16:50:02.63_header.txt\n",
      "../WedFeb24044951PMEST2021/2021-02-24T16:50:01.485_header.txt\n",
      "../ThuFeb25041902AMEST2021/2021-02-25T04:19:14.422_header.txt\n",
      "../ThuFeb25041902AMEST2021/2021-02-25T04:19:10.989_header.txt\n",
      "../ThuFeb25041902AMEST2021/2021-02-25T04:19:14.459_header.txt\n",
      "../ThuFeb25041902AMEST2021/2021-02-25T04:19:11.604_header.txt\n",
      "../ThuFeb25041902AMEST2021/2021-02-25T04:19:14.642_header.txt\n",
      "../ThuFeb25041902AMEST2021/2021-02-25T04:19:10.774_header.txt\n",
      "../ThuFeb25041902AMEST2021/2021-02-25T04:19:10.742_header.txt\n",
      "../ThuFeb25041902AMEST2021/2021-02-25T04:19:13.541_header.txt\n",
      "../ThuFeb25041902AMEST2021/2021-02-25T04:19:14.262_header.txt\n",
      "../ThuFeb25041902AMEST2021/2021-02-25T04:19:10.992_header.txt\n",
      "../WedFeb24091056AMEST2021/2021-02-24T09:11:07.671_header.txt\n",
      "../WedFeb24091056AMEST2021/2021-02-24T09:11:04.49_header.txt\n",
      "../WedFeb24091056AMEST2021/2021-02-24T09:11:07.573_header.txt\n",
      "../WedFeb24091056AMEST2021/2021-02-24T09:11:04.19_header.txt\n",
      "../WedFeb24091056AMEST2021/2021-02-24T09:11:07.593_header.txt\n",
      "../WedFeb24091056AMEST2021/2021-02-24T09:11:04.021_header.txt\n",
      "../WedFeb24091056AMEST2021/2021-02-24T09:11:04.102_header.txt\n",
      "../WedFeb24091056AMEST2021/2021-02-24T09:11:07.664_header.txt\n",
      "../WedFeb24091056AMEST2021/2021-02-24T09:11:03.974_header.txt\n",
      "../WedFeb24091056AMEST2021/2021-02-24T09:11:06.666_header.txt\n",
      "../WedFeb24091056AMEST2021/2021-02-24T09:11:07.185_header.txt\n",
      "../WedFeb24054736AMEST2021/2021-02-24T05:47:43.607_header.txt\n",
      "../WedFeb24054736AMEST2021/2021-02-24T05:47:43.554_header.txt\n",
      "../WedFeb24054736AMEST2021/2021-02-24T05:47:43.684_header.txt\n",
      "../TueFeb23114410AMEST2021/2021-02-23T11:44:20.586_header.txt\n",
      "../TueFeb23114410AMEST2021/2021-02-23T11:44:20.338_header.txt\n",
      "../TueFeb23114410AMEST2021/2021-02-23T11:44:18.869_header.txt\n",
      "../TueFeb23114410AMEST2021/2021-02-23T11:44:21.546_header.txt\n",
      "../TueFeb23114410AMEST2021/2021-02-23T11:44:20.624_header.txt\n",
      "../TueFeb23114410AMEST2021/2021-02-23T11:44:21.616_header.txt\n",
      "../TueFeb23114410AMEST2021/2021-02-23T11:44:20.484_header.txt\n",
      "../TueFeb23114410AMEST2021/2021-02-23T11:44:18.919_header.txt\n",
      "../TueFeb23114410AMEST2021/2021-02-23T11:44:21.411_header.txt\n",
      "../TueFeb23114410AMEST2021/2021-02-23T11:44:18.892_header.txt\n",
      "../TueFeb23114410AMEST2021/2021-02-23T11:44:22.222_header.txt\n"
     ]
    }
   ],
   "source": [
    "\n",
    "results_folders = [\"../WedFeb24044951PMEST2021/\"]\n",
    "results_folders.append(\"../ThuFeb25041902AMEST2021/\")\n",
    "results_folders.append('../WedFeb24091056AMEST2021/')\n",
    "results_folders.append('../WedFeb24054736AMEST2021/')\n",
    "results_folders.append('../TueFeb23114410AMEST2021/')\n",
    "\n",
    "headers = []\n",
    "\n",
    "for results_folder in  results_folders:\n",
    "    for file in os.listdir(results_folder):\n",
    "        if 'header' in file: \n",
    "            headers.append(results_folder + file)\n",
    "            print(results_folder + file)"
   ]
  },
  {
   "cell_type": "code",
   "execution_count": 81,
   "metadata": {},
   "outputs": [],
   "source": [
    "Q = {}\n",
    "M = {}\n",
    "for fname in headers:\n",
    "    openfile = fname\n",
    "    f = open(openfile, \"r\")\n",
    "    N=0\n",
    "    I=0\n",
    "    D=0\n",
    "    c = False\n",
    "    Lambda = False\n",
    "    run_type = ''\n",
    "    reading = True\n",
    "    \n",
    "    while(reading):\n",
    "        line = f.readline()\n",
    "        \n",
    "        if not line:\n",
    "            reading = False\n",
    "        if 'Q' in line.strip():\n",
    "            run_type = 'Q'\n",
    "        if 'M' in line.strip():\n",
    "            run_type = 'M'\n",
    "        if 'N' in line.strip():\n",
    "            try: N = int(line.strip()[-4:])\n",
    "            except: N = int(line.strip()[-2:])\n",
    "        if 'Iterations' in line.strip():\n",
    "            try: I = int(line.strip()[-4:])\n",
    "            except: \n",
    "                I = int(line.strip()[-2:])\n",
    "        if 'Depth' in line.strip():\n",
    "            try: D = int(line.strip()[-3:])    \n",
    "            except: \n",
    "                try: D = int(line.strip()[-1:])    \n",
    "                except: D = False\n",
    "        if 'Lambda:' in line.strip():\n",
    "            \n",
    "            try: \n",
    "                Lambda = float(line.strip()[7:])\n",
    "            except: \n",
    "                Lambda = False\n",
    "        if 'c:' in line.strip():\n",
    "            try: c = float(line.strip()[3:])\n",
    "            except: c = False\n",
    "        ident = (N, I, D, run_type, Lambda, c)\n",
    "        fheader = fname[:-10]\n",
    "    try:\n",
    "        df = pd.read_csv(fheader + \"data.csv\")\n",
    "        df['3'] = df.apply(lambda x: min(1, x['1'] + x['2']), axis=1)\n",
    "        if type == 'Q':\n",
    "            if ident in Q:\n",
    "                Q[ident] = Q[ident].append(df, ignore_index=True)\n",
    "            else:\n",
    "                Q[ident] = df\n",
    "        if run_type == 'M':\n",
    "            if ident in M:\n",
    "                M[ident] = M[ident].append(df, ignore_index=True)\n",
    "            else:\n",
    "                M[ident] = df\n",
    "    except: print(\"File not found: \" + fheader + \"data.csv\")\n",
    "        \n",
    "\n"
   ]
  },
  {
   "cell_type": "code",
   "execution_count": 82,
   "metadata": {},
   "outputs": [
    {
     "name": "stdout",
     "output_type": "stream",
     "text": [
      "(100, 200, 10, 'M', 0.5, 10.0): 6000: 0.008833333333333334, 0.10166666666666667, 0.10766666666666666, 0.09607455555554777\n",
      "(100, 200, 10, 'M', 0.7, 10.0): 6000: 0.0033333333333333335, 0.08916666666666667, 0.09116666666666666, 0.08285530555555491\n",
      "(100, 200, 10, 'M', 0.8, 10.0): 6000: 0.0035, 0.09383333333333334, 0.096, 0.08678399999999184\n",
      "(100, 200, 10, 'M', 0.4, 10.0): 6000: 0.010333333333333333, 0.10433333333333333, 0.112, 0.09945600000000153\n",
      "(100, 200, 10, 'M', 0.925, 10.0): 6000: 0.0025, 0.08966666666666667, 0.09083333333333334, 0.08258263888888309\n",
      "(100, 200, 10, 'M', 0.9, 10.0): 6000: 0.003, 0.10133333333333333, 0.10316666666666667, 0.09252330555556212\n",
      "(100, 200, 10, 'M', 0.3, 10.0): 6000: 0.0145, 0.11166666666666666, 0.12216666666666667, 0.10724197222221667\n",
      "(100, 200, 10, 'M', 0.95, 10.0): 3000: 0.0026666666666666666, 0.087, 0.08766666666666667, 0.07998122222221866\n",
      "(100, 200, 10, 'M', 0.975, 10.0): 6000: 0.0035, 0.102, 0.1045, 0.09357975000001344\n",
      "(100, 200, 10, 'M', 0.875, 10.0): 6000: 0.0021666666666666666, 0.09433333333333334, 0.09583333333333334, 0.08664930555556538\n",
      "(100, 200, 10, 'M', 0.6, 10.0): 3000: 0.005, 0.09466666666666666, 0.097, 0.08759100000000285\n",
      "(100, 200, 5, 'M', 0.9, 10.0): 5000: 0.0034, 0.0922, 0.0938, 0.0850015600000061\n",
      "(100, 200, 5, 'M', 0.925, 10.0): 3000: 0.0036666666666666666, 0.09, 0.093, 0.08435099999999802\n",
      "(100, 200, 5, 'M', 0.7, 10.0): 5000: 0.006, 0.0928, 0.0972, 0.08775216000000478\n",
      "(100, 200, 5, 'M', 0.4, 10.0): 3000: 0.010666666666666666, 0.10533333333333333, 0.11333333333333333, 0.10048888888889256\n",
      "(100, 200, 5, 'M', 0.8, 10.0): 5000: 0.005, 0.0954, 0.0986, 0.08887803999999329\n",
      "(100, 200, 5, 'M', 0.3, 10.0): 3000: 0.014666666666666666, 0.11266666666666666, 0.12166666666666667, 0.10686388888889496\n",
      "(100, 200, 5, 'M', 0.975, 10.0): 3000: 0.004333333333333333, 0.09666666666666666, 0.09866666666666667, 0.08893155555555175\n",
      "(100, 200, 5, 'M', 0.6, 10.0): 3000: 0.006, 0.09766666666666667, 0.10133333333333333, 0.09106488888889148\n",
      "(100, 200, 5, 'M', 0.95, 10.0): 3000: 0.0033333333333333335, 0.09633333333333334, 0.09866666666666667, 0.08893155555555082\n",
      "(100, 200, 5, 'M', 0.875, 10.0): 3000: 0.0033333333333333335, 0.09466666666666666, 0.09733333333333333, 0.08785955555555143\n",
      "(100, 200, 5, 'M', 0.5, 10.0): 3000: 0.007, 0.099, 0.104, 0.0931840000000019\n",
      "(200, 500, 3, 'M', 0.75, 10.0): 2000: 0.0035, 0.043, 0.045, 0.04297500000000181\n",
      "(200, 500, 3, 'M', 0.825, 10.0): 2000: 0.0075, 0.052, 0.0565, 0.05330774999999873\n",
      "(200, 500, 3, 'M', 0.92, 10.0): 2000: 0.005, 0.0415, 0.046, 0.043884000000000645\n",
      "(200, 500, 3, 'M', 0.85, 10.0): 2000: 0.005, 0.0435, 0.0475, 0.04524375000000097\n",
      "(200, 500, 3, 'M', 0.725, 10.0): 2000: 0.006, 0.0445, 0.048, 0.04569599999999951\n",
      "(200, 500, 3, 'M', 0.95, 10.0): 2000: 0.0035, 0.0435, 0.047, 0.04479099999999847\n",
      "(200, 500, 3, 'M', 0.9, 10.0): 2000: 0.004, 0.045, 0.049, 0.04659900000000151\n",
      "(200, 500, 3, 'M', 0.875, 10.0): 2000: 0.004, 0.0475, 0.05, 0.047499999999998814\n",
      "(200, 500, 3, 'M', 0.975, 10.0): 2000: 0.005, 0.037, 0.041, 0.03931900000000043\n",
      "(200, 500, 3, 'M', 0.775, 10.0): 2000: 0.0035, 0.0505, 0.054, 0.051083999999999206\n",
      "(200, 500, 3, 'M', 0.8, 10.0): 2000: 0.007, 0.0465, 0.0515, 0.04884774999999812\n"
     ]
    }
   ],
   "source": [
    "for q in Q:\n",
    "    print(q, end=\": \")\n",
    "    print(len(Q[q]['3']), end=\": \")\n",
    "    print(np.mean(Q[q]['1']),end = \", \")\n",
    "    print(np.mean(Q[q]['2']),end = \", \")\n",
    "    print(np.mean(Q[q]['3']))\n",
    "\n",
    "depth_series = [[],[]]\n",
    "c_series = [[],[]]\n",
    "lambda_series = [[],[]]\n",
    "for m in M:\n",
    "    print(m, end=\": \")\n",
    "    print(len(M[m]['3']), end=\": \")\n",
    "    print(np.mean(M[m]['1']),end = \", \")\n",
    "    print(np.mean(M[m]['2']),end = \", \")\n",
    "    print(np.mean(M[m]['3']),end = \", \")\n",
    "    print(np.var(M[m]['3']))\n",
    "    if m[5] == 10 and m[4] == 0.9:\n",
    "        depth_series[0].append(m[2])\n",
    "        depth_series[1].append(np.mean(M[m]['3']))\n",
    "    if m[2] == 5 and m[4] == 0.9:\n",
    "        c_series[0].append(m[5])\n",
    "        c_series[1].append(np.mean(M[m]['3']))\n",
    "    if m[5] == 10:\n",
    "        lambda_series[0].append(m[4])\n",
    "        lambda_series[1].append(np.mean(M[m]['3']))"
   ]
  },
  {
   "cell_type": "code",
   "execution_count": null,
   "metadata": {},
   "outputs": [],
   "source": [
    "# df = pd.DataFrame(np.array(depth_series).T, columns=(\"depth\",\"loss\"))\n",
    "# sns.scatterplot(data = df, x=\"depth\", y=\"loss\")\n",
    "# plt.show()"
   ]
  },
  {
   "cell_type": "code",
   "execution_count": null,
   "metadata": {},
   "outputs": [],
   "source": [
    "# df = pd.DataFrame(np.array(c_series).T, columns=(\"c\",\"loss\"))\n",
    "# sns.scatterplot(data = df, x=\"c\", y=\"loss\")\n",
    "# plt.show()"
   ]
  },
  {
   "cell_type": "code",
   "execution_count": 83,
   "metadata": {},
   "outputs": [
    {
     "data": {
      "image/png": "[encoded data removed]",
      "text/plain": [
       "<Figure size 432x288 with 1 Axes>"
      ]
     },
     "metadata": {
      "needs_background": "light"
     },
     "output_type": "display_data"
    }
   ],
   "source": [
    "df = pd.DataFrame(np.array(lambda_series).T, columns=(\"lambda\",\"loss\"))\n",
    "sns.scatterplot(data = df, x=\"lambda\", y=\"loss\")\n",
    "plt.show()"
   ]
  },
  {
   "cell_type": "code",
   "execution_count": 50,
   "metadata": {},
   "outputs": [],
   "source": [
    "from plotnine import ggplot, geom_point, aes, stat_smooth, facet_wrap\n"
   ]
  },
  {
   "cell_type": "code",
   "execution_count": 84,
   "metadata": {},
   "outputs": [
    {
     "data": {
      "image/png": "[encoded data removed]",
      "text/plain": [
       "<Figure size 640x480 with 1 Axes>"
      ]
     },
     "metadata": {},
     "output_type": "display_data"
    },
    {
     "data": {
      "text/plain": [
       "<ggplot: (8733415503469)>"
      ]
     },
     "execution_count": 84,
     "metadata": {},
     "output_type": "execute_result"
    }
   ],
   "source": [
    "(ggplot(df, aes('lambda', 'loss'))\n",
    "+ geom_point()\n",
    "+ stat_smooth(method='lm')\n",
    ")"
   ]
  }
 ],
 "metadata": {
  "kernelspec": {
   "display_name": "Python 3",
   "language": "python",
   "name": "python3"
  },
  "language_info": {
   "codemirror_mode": {
    "name": "ipython",
    "version": 3
   },
   "file_extension": ".py",
   "mimetype": "text/x-python",
   "name": "python",
   "nbconvert_exporter": "python",
   "pygments_lexer": "ipython3",
   "version": "3.7.6"
  }
 },
 "nbformat": 4,
 "nbformat_minor": 4
}
