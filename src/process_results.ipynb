{
 "cells": [
  {
   "cell_type": "code",
   "execution_count": 2,
   "metadata": {},
   "outputs": [],
   "source": [
    "import numpy as np\n",
    "import pandas as pd\n",
    "import os\n",
    "import re\n",
    "\n",
    "import matplotlib.pyplot as plt\n",
    "import seaborn as sns"
   ]
  },
  {
   "cell_type": "code",
   "execution_count": 100,
   "metadata": {},
   "outputs": [
    {
     "name": "stdout",
     "output_type": "stream",
     "text": [
      "../WedFeb24044951PMEST2021/2021-02-24T16:50:01.474_header.txt\n",
      "../WedFeb24044951PMEST2021/2021-02-24T16:50:01.608_header.txt\n",
      "../WedFeb24044951PMEST2021/2021-02-24T16:50:02.547_header.txt\n",
      "../WedFeb24044951PMEST2021/2021-02-24T16:50:00.129_header.txt\n",
      "../WedFeb24044951PMEST2021/2021-02-24T16:50:01.186_header.txt\n",
      "../WedFeb24044951PMEST2021/2021-02-24T16:50:03.181_header.txt\n",
      "../WedFeb24044951PMEST2021/2021-02-24T16:50:00_header.txt\n",
      "../WedFeb24044951PMEST2021/2021-02-24T16:49:59.779_header.txt\n",
      "../WedFeb24044951PMEST2021/2021-02-24T16:50:02.63_header.txt\n",
      "../WedFeb24044951PMEST2021/2021-02-24T16:50:01.485_header.txt\n",
      "../ThuFeb25041902AMEST2021/2021-02-25T04:19:14.422_header.txt\n",
      "../ThuFeb25041902AMEST2021/2021-02-25T04:19:10.989_header.txt\n",
      "../ThuFeb25041902AMEST2021/2021-02-25T04:19:14.459_header.txt\n",
      "../ThuFeb25041902AMEST2021/2021-02-25T04:19:11.604_header.txt\n",
      "../ThuFeb25041902AMEST2021/2021-02-25T04:19:14.642_header.txt\n",
      "../ThuFeb25041902AMEST2021/2021-02-25T04:19:10.774_header.txt\n",
      "../ThuFeb25041902AMEST2021/2021-02-25T04:19:10.742_header.txt\n",
      "../ThuFeb25041902AMEST2021/2021-02-25T04:19:13.541_header.txt\n",
      "../ThuFeb25041902AMEST2021/2021-02-25T04:19:14.262_header.txt\n",
      "../ThuFeb25041902AMEST2021/2021-02-25T04:19:10.992_header.txt\n",
      "../ThuFeb25013750PMEST2021/2021-02-25T13:38:01.999_header.txt\n",
      "../ThuFeb25013750PMEST2021/2021-02-25T13:38:02.345_header.txt\n",
      "../ThuFeb25013750PMEST2021/2021-02-25T13:38:02.024_header.txt\n",
      "../ThuFeb25013750PMEST2021/2021-02-25T13:38:02.388_header.txt\n",
      "../ThuFeb25013750PMEST2021/2021-02-25T13:38:01.971_header.txt\n",
      "../ThuFeb25013750PMEST2021/2021-02-25T13:37:59.062_header.txt\n",
      "../ThuFeb25013750PMEST2021/2021-02-25T13:38:02.247_header.txt\n",
      "../ThuFeb25013750PMEST2021/2021-02-25T13:37:58.882_header.txt\n",
      "../ThuFeb25013750PMEST2021/2021-02-25T13:38:01.667_header.txt\n",
      "../ThuFeb25013750PMEST2021/2021-02-25T13:38:02.342_header.txt\n",
      "../ThuFeb25013750PMEST2021/2021-02-25T13:37:58.609_header.txt\n"
     ]
    }
   ],
   "source": [
    "\n",
    "results_folders = [\"../WedFeb24044951PMEST2021/\"]\n",
    "results_folders.append(\"../ThuFeb25041902AMEST2021/\")\n",
    "results_folders.append(\"../ThuFeb25013750PMEST2021/\")\n",
    "# results_folders.append('../WedFeb24091056AMEST2021/')\n",
    "# results_folders.append('../WedFeb24054736AMEST2021/')\n",
    "# results_folders.append('../TueFeb23114410AMEST2021/')\n",
    "\n",
    "headers = []\n",
    "\n",
    "for results_folder in  results_folders:\n",
    "    for file in os.listdir(results_folder):\n",
    "        if 'header' in file: \n",
    "            headers.append(results_folder + file)\n",
    "            print(results_folder + file)"
   ]
  },
  {
   "cell_type": "code",
   "execution_count": 101,
   "metadata": {},
   "outputs": [],
   "source": [
    "Q = {}\n",
    "M = {}\n",
    "for fname in headers:\n",
    "    openfile = fname\n",
    "    f = open(openfile, \"r\")\n",
    "    N=0\n",
    "    I=0\n",
    "    D=0\n",
    "    c = False\n",
    "    Lambda = False\n",
    "    run_type = ''\n",
    "    reading = True\n",
    "    \n",
    "    while(reading):\n",
    "        line = f.readline()\n",
    "        \n",
    "        if not line:\n",
    "            reading = False\n",
    "        if 'Q' in line.strip():\n",
    "            run_type = 'Q'\n",
    "        if 'M' in line.strip():\n",
    "            run_type = 'M'\n",
    "        if 'N' in line.strip():\n",
    "            try: N = int(line.strip()[-4:])\n",
    "            except: N = int(line.strip()[-2:])\n",
    "        if 'Iterations' in line.strip():\n",
    "            try: I = int(line.strip()[-4:])\n",
    "            except: \n",
    "                I = int(line.strip()[-2:])\n",
    "        if 'Depth' in line.strip():\n",
    "            try: D = int(line.strip()[-3:])    \n",
    "            except: \n",
    "                try: D = int(line.strip()[-1:])    \n",
    "                except: D = False\n",
    "        if 'Lambda:' in line.strip():\n",
    "            \n",
    "            try: \n",
    "                Lambda = float(line.strip()[7:])\n",
    "            except: \n",
    "                Lambda = False\n",
    "        if 'c:' in line.strip():\n",
    "            try: c = float(line.strip()[3:])\n",
    "            except: c = False\n",
    "        ident = (N, I, D, run_type, Lambda, c)\n",
    "        fheader = fname[:-10]\n",
    "    try:\n",
    "        df = pd.read_csv(fheader + \"data.csv\")\n",
    "        df['3'] = df.apply(lambda x: min(1, x['1'] + x['2']), axis=1)\n",
    "        if type == 'Q':\n",
    "            if ident in Q:\n",
    "                Q[ident] = Q[ident].append(df, ignore_index=True)\n",
    "            else:\n",
    "                Q[ident] = df\n",
    "        if run_type == 'M':\n",
    "            if ident in M:\n",
    "                M[ident] = M[ident].append(df, ignore_index=True)\n",
    "            else:\n",
    "                M[ident] = df\n",
    "    except: print(\"File not found: \" + fheader + \"data.csv\")\n",
    "        \n",
    "\n"
   ]
  },
  {
   "cell_type": "code",
   "execution_count": 102,
   "metadata": {},
   "outputs": [
    {
     "name": "stdout",
     "output_type": "stream",
     "text": [
      "(100, 200, 10, 'M', 0.5, 10.0): 9000: 0.008333333333333333, 0.099, 0.10466666666666667, 0.09371155555555874\n",
      "(100, 200, 10, 'M', 0.7, 10.0): 9000: 0.0035555555555555557, 0.09233333333333334, 0.09488888888888888, 0.08588498765431953\n",
      "(100, 200, 10, 'M', 0.8, 10.0): 9000: 0.0033333333333333335, 0.09577777777777778, 0.09766666666666667, 0.08812788888890755\n",
      "(100, 200, 10, 'M', 0.4, 10.0): 9000: 0.010222222222222223, 0.10533333333333333, 0.113, 0.10023100000001751\n",
      "(100, 200, 10, 'M', 0.925, 10.0): 6000: 0.0025, 0.08966666666666667, 0.09083333333333334, 0.08258263888888309\n",
      "(100, 200, 10, 'M', 0.9, 10.0): 6000: 0.003, 0.10133333333333333, 0.10316666666666667, 0.09252330555556212\n",
      "(100, 200, 10, 'M', 0.3, 10.0): 9000: 0.013555555555555555, 0.11244444444444444, 0.12266666666666666, 0.10761955555556373\n",
      "(100, 200, 10, 'M', 0.95, 10.0): 9000: 0.0017777777777777779, 0.09777777777777778, 0.09855555555555555, 0.08884235802470228\n",
      "(100, 200, 10, 'M', 0.975, 10.0): 9000: 0.0035555555555555557, 0.10233333333333333, 0.10466666666666667, 0.0937115555555586\n",
      "(100, 200, 10, 'M', 0.875, 10.0): 9000: 0.0025555555555555557, 0.094, 0.09588888888888888, 0.08669420987654775\n",
      "(100, 200, 10, 'M', 0.6, 10.0): 9000: 0.006222222222222222, 0.09722222222222222, 0.10077777777777777, 0.09062161728393986\n"
     ]
    }
   ],
   "source": [
    "for q in Q:\n",
    "    print(q, end=\": \")\n",
    "    print(len(Q[q]['3']), end=\": \")\n",
    "    print(np.mean(Q[q]['1']),end = \", \")\n",
    "    print(np.mean(Q[q]['2']),end = \", \")\n",
    "    print(np.mean(Q[q]['3']))\n",
    "\n",
    "depth_series = [[],[]]\n",
    "c_series = [[],[]]\n",
    "lambda_series = [[],[]]\n",
    "for m in M:\n",
    "    print(m, end=\": \")\n",
    "    print(len(M[m]['3']), end=\": \")\n",
    "    print(np.mean(M[m]['1']),end = \", \")\n",
    "    print(np.mean(M[m]['2']),end = \", \")\n",
    "    print(np.mean(M[m]['3']),end = \", \")\n",
    "    print(np.var(M[m]['3']))\n",
    "    if m[5] == 10 and m[4] == 0.9:\n",
    "        depth_series[0].append(m[2])\n",
    "        depth_series[1].append(np.mean(M[m]['3']))\n",
    "    if m[2] == 5 and m[4] == 0.9:\n",
    "        c_series[0].append(m[5])\n",
    "        c_series[1].append(np.mean(M[m]['3']))\n",
    "    if m[5] == 10:\n",
    "        lambda_series[0].append(m[4])\n",
    "        lambda_series[1].append(np.mean(M[m]['3']))"
   ]
  },
  {
   "cell_type": "code",
   "execution_count": null,
   "metadata": {},
   "outputs": [],
   "source": [
    "# df = pd.DataFrame(np.array(depth_series).T, columns=(\"depth\",\"loss\"))\n",
    "# sns.scatterplot(data = df, x=\"depth\", y=\"loss\")\n",
    "# plt.show()"
   ]
  },
  {
   "cell_type": "code",
   "execution_count": null,
   "metadata": {},
   "outputs": [],
   "source": [
    "# df = pd.DataFrame(np.array(c_series).T, columns=(\"c\",\"loss\"))\n",
    "# sns.scatterplot(data = df, x=\"c\", y=\"loss\")\n",
    "# plt.show()"
   ]
  },
  {
   "cell_type": "code",
   "execution_count": 103,
   "metadata": {},
   "outputs": [
    {
     "data": {
      "image/png": "[encoded data removed]",
      "text/plain": [
       "<Figure size 432x288 with 1 Axes>"
      ]
     },
     "metadata": {
      "needs_background": "light"
     },
     "output_type": "display_data"
    }
   ],
   "source": [
    "df = pd.DataFrame(np.array(lambda_series).T, columns=(\"lambda\",\"loss\"))\n",
    "sns.scatterplot(data = df, x=\"lambda\", y=\"loss\")\n",
    "plt.show()"
   ]
  },
  {
   "cell_type": "code",
   "execution_count": 50,
   "metadata": {},
   "outputs": [],
   "source": [
    "from plotnine import ggplot, geom_point, aes, stat_smooth, facet_wrap\n"
   ]
  },
  {
   "cell_type": "code",
   "execution_count": 104,
   "metadata": {},
   "outputs": [
    {
     "data": {
      "image/png": "[encoded data removed]",
      "text/plain": [
       "<Figure size 640x480 with 1 Axes>"
      ]
     },
     "metadata": {},
     "output_type": "display_data"
    },
    {
     "data": {
      "text/plain": [
       "<ggplot: (8733415537801)>"
      ]
     },
     "execution_count": 104,
     "metadata": {},
     "output_type": "execute_result"
    }
   ],
   "source": [
    "(ggplot(df, aes('lambda', 'loss'))\n",
    "+ geom_point()\n",
    "+ stat_smooth(method='lm')\n",
    ")"
   ]
  }
 ],
 "metadata": {
  "kernelspec": {
   "display_name": "Python 3",
   "language": "python",
   "name": "python3"
  },
  "language_info": {
   "codemirror_mode": {
    "name": "ipython",
    "version": 3
   },
   "file_extension": ".py",
   "mimetype": "text/x-python",
   "name": "python",
   "nbconvert_exporter": "python",
   "pygments_lexer": "ipython3",
   "version": "3.7.6"
  }
 },
 "nbformat": 4,
 "nbformat_minor": 4
}
